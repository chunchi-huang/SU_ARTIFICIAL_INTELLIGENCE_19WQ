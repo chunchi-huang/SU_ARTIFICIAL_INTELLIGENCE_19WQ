{
 "cells": [
  {
   "cell_type": "markdown",
   "metadata": {},
   "source": [
    "#### Job Shop Scheduling ####\n",
    "\n",
    "**Short summary**\n",
    "\n",
    "1. The problem consists of N *jobs* 1..N  each job has some number of *tasks*\n",
    "1. For each job, the tasks must be done in sequence\n",
    "1. Each task requires a *resource*,  and two tasks that use the same resource cannot be scheduled at the same time\n",
    "1. All tasks take three time units to complete\n",
    "1. All tasks are ready for execution at time 0, and must complete at or before time 15\n",
    "  1. Which means that if any job has more five tasks, it cannot be scheduled, no matter what\n",
    "\n",
    "There are some hints at the bottom of the file.\n",
    "\n",
    "Input to the problem comes in a variable like this:\n"
   ]
  },
  {
   "cell_type": "code",
   "execution_count": null,
   "metadata": {},
   "outputs": [],
   "source": [
    "# Job 1\n",
    "#   (o11, r1)   (o12, r2) (o13, r3)\n",
    "# Job 2\n",
    "#   (o21, r1)  (o22, r2)\n",
    "# Job 3\n",
    "#   (o31, r3) (o32, r1) (o33, r2)\n",
    "# Job 4\n",
    "#   (o41, r4) (o42, r2)\n",
    "#\n",
    "# The ri are the resources\n",
    "\n",
    "example = [[(\"o11\", \"r1\"), (\"o12\", \"r2\"), (\"o13\", \"r3\")],\n",
    "           [(\"o21\", \"r1\"), (\"o22\", \"r2\")],\n",
    "           [(\"o31\", \"r3\"), (\"o32\", \"r1\"), (\"o33\", \"r2\")],\n",
    "           [(\"o41\", \"r4\"), (\"o42\", \"r2\")]]\n"
   ]
  },
  {
   "cell_type": "markdown",
   "metadata": {},
   "source": [
    "----------------------------------------------"
   ]
  },
  {
   "cell_type": "code",
   "execution_count": null,
   "metadata": {},
   "outputs": [],
   "source": [
    "from constraint import *"
   ]
  },
  {
   "cell_type": "code",
   "execution_count": null,
   "metadata": {},
   "outputs": [],
   "source": [
    "###  Your implementation of solveCSP here:  takes a problem description as input, returns a \n",
    "###  list of solutions as output.  The method problem.getSolutions() returns a list of solutions.\n",
    "###  Each solution is a dictionary -- key is a task, value is the value it is assigned by the CSP\n",
    "def subtasks(problemList, jobno): # return a subtask list, ex: ['o11', 'o12', 'o13']\n",
    "    subTaskList = []\n",
    "    for job in problemList[jobno]:\n",
    "        subTaskList.append(job[0])\n",
    "    return subTaskList\n",
    "\n",
    "def resourceFor(subtask, problemList): # return a resource by inputting the given subtask, ex: 'r1'\n",
    "    for job in problemList:\n",
    "        for subTask in job:\n",
    "            if subtask == subTask[0]:\n",
    "                return subTask[1]\n",
    "\n",
    "def addOrderConstraints(problemList, problem): # add order constraints\n",
    "    for job in problemList:\n",
    "        for i in range(len(job)-1):\n",
    "            if len(job) > 1:\n",
    "                problem.addConstraint(lambda x, y: x + 1 <= y, [job[i][0], job[i+1][0]])\n",
    "                \n",
    "def addMutexConstraints(problemList, problem):\n",
    "    resList = [] # generate the resource list, ex:['r1', 'r2', 'r3', 'r4']\n",
    "    for job in problemList:\n",
    "        for subtask in job:\n",
    "            if subtask[1] not in resList:\n",
    "                resList.append(subtask[1])\n",
    "    \n",
    "    resTaskList = [] # create the task list ordered by resource ['r1', 'r2', 'r3', 'r4']                 \n",
    "    for res in resList: # ex:[['o11', 'o21', 'o32'], ['o12', 'o22', 'o33', 'o42'], ['o13', 'o31'], ['o41']]\n",
    "        taskList = []\n",
    "        for job in problemList:\n",
    "            for subtask in job:\n",
    "                if subtask[1] == res:\n",
    "                     taskList.append(subtask[0])\n",
    "        resTaskList.append(taskList) \n",
    "    \n",
    "    for tasks in resTaskList: # find every combination for every resource task list and set it different\n",
    "        size = len(tasks)     # ex: for r1, the combinations are [(o11,o21),(o11, o32),(o21,o32)] \n",
    "        for i in reversed(range(1,size)):\n",
    "            for j in reversed(range(i)):\n",
    "                problem.addConstraint(lambda x, y: x != y, [tasks[size-1-i], tasks[size-1-j]])\n",
    "                    \n",
    "                \n",
    "def solveCSP(problemList): \n",
    "    problem = Problem()\n",
    "    variables = []\n",
    "    \n",
    "    for job in problemList:\n",
    "        for subTask in job:\n",
    "            variables.append(subTask[0]) # create a variable list, ex: [o11, o12, o13...]\n",
    "            \n",
    "    problem.addVariables(variables, range(0,5))\n",
    "    addOrderConstraints(problemList, problem)      \n",
    "    addMutexConstraints(problemList, problem)\n",
    "    \n",
    "    return problem.getSolutions()"
   ]
  },
  {
   "cell_type": "code",
   "execution_count": null,
   "metadata": {},
   "outputs": [],
   "source": [
    "def printSolution(problemList):\n",
    "    solutions = solveCSP(problemList)\n",
    "    if len(solutions) == 0:\n",
    "        print(\"No solutions for this problem\")\n",
    "    else:\n",
    "        print(\"There are \" + str(len(solutions)) + \" solutions.  Here is one:\\n\")\n",
    "        solution = solutions[0]\n",
    "        for jobno in range(0, len(problemList)):\n",
    "            print(\"Schedule for Job \" + str(jobno+1))\n",
    "            for subtask in sorted(subtasks(problemList, jobno)):\n",
    "                print(\"   Subtask \" + subtask + \" starts at \" + str(solution[subtask]*3) + \\\n",
    "                      \" ends at \" + str(2 + int(solution[subtask]*3)) + \"\\tuses \" + resourceFor(subtask, problemList))\n",
    "                "
   ]
  },
  {
   "cell_type": "code",
   "execution_count": null,
   "metadata": {},
   "outputs": [],
   "source": [
    "printSolution(example)"
   ]
  },
  {
   "cell_type": "markdown",
   "metadata": {},
   "source": [
    "-----------------------------------\n",
    "\n",
    "**Hints**\n",
    "1.  Since all tasks take three time units, it's easiest to partition time into \"buckets\" each of which is three time units long.  For example, bucket 1 is the interval between t=0 and t=2 inclusive, bucket 1 is t=3 to t=5 inclusive.  You will notice from the **printSolution** code that my solver does that bucketing, then when it prints the solution it converts the time bucket number to a real point in time\n",
    "2.  There are only two kinds of constraints:  order constraints (one task must come after another) and mutex constraints (two tasks must not be scheduled at the same time).   If you write helper functions for those two constraints, it will simplify your code a lot."
   ]
  },
  {
   "cell_type": "code",
   "execution_count": null,
   "metadata": {},
   "outputs": [],
   "source": []
  }
 ],
 "metadata": {
  "kernelspec": {
   "display_name": "Python 3",
   "language": "python",
   "name": "python3"
  },
  "language_info": {
   "codemirror_mode": {
    "name": "ipython",
    "version": 3
   },
   "file_extension": ".py",
   "mimetype": "text/x-python",
   "name": "python",
   "nbconvert_exporter": "python",
   "pygments_lexer": "ipython3",
   "version": "3.7.1"
  }
 },
 "nbformat": 4,
 "nbformat_minor": 2
}

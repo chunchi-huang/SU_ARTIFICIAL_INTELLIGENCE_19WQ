{
 "cells": [
  {
   "cell_type": "markdown",
   "metadata": {},
   "source": [
    "### Problem-Independent Machinery"
   ]
  },
  {
   "cell_type": "code",
   "execution_count": null,
   "metadata": {},
   "outputs": [],
   "source": [
    "## The search algorithm itself -- it takes a problem, which will give it an initial state and the goal test,\n",
    "##   the world state itself which gives it the successor states, and an evaluator that evaluates the quality\n",
    "##   of a node on the search frontier\n",
    "\n",
    "#  Priority queue code taken from Pacman project -- PriorityQueue supports\n",
    "#      pop, isEmpty, and push/update\n",
    "#\n",
    "#  Client supplies\n",
    "#    -- a WorldState; a WorldState implements the method successors()\n",
    "#    -- a Problem which supplies the initial state and goal state checker\n",
    "#    -- an Evaluator which supplies a method that evaluates a WorldState\n",
    "#\n",
    "#   The search function uses a SearchState which is a WorldState plus a sequence of \n",
    "#     actions (not examined by Search).   The search fringe is a priority \n",
    "#     queue of SearchState\n",
    "#\n",
    "#   Search returns a 2-tuple -- \n",
    "#    -- a sequence of actions\n",
    "#    -- performance information:  process time used, number of nodes expanded, \n",
    "#         number of nodes skipped (because they were previously expanded)\n",
    "\n",
    "from priorityqueue import PriorityQueue\n",
    "import time\n",
    "\n",
    "def aStarSearch(problem, evaluator, verbose=None):\n",
    "    startTime = time.process_time()\n",
    "    fringe = PriorityQueue()\n",
    "    visited = {}\n",
    "    initialWorldState = problem.initial()\n",
    "    initialValue = evaluator.value(initialWorldState, [])\n",
    "    initialSearchState = SearchState(initialWorldState, [])\n",
    "    fringe.update(initialSearchState, initialValue)\n",
    "    numVisited = numSkipped = 0\n",
    "    while (True):\n",
    "        if fringe.isEmpty():\n",
    "            return (None, (time.process_time() - startTime, numVisited, numSkipped))\n",
    "        nextNode = fringe.pop()   # A search state (state, actions)\n",
    "        numVisited += 1\n",
    "        if (verbose and numVisited % verbose == 0):\n",
    "            print(\"Visited \" + str(numVisited) + \" world is \" + str(nextNode._worldState))\n",
    "            print(\"Skipped \" + str(numSkipped) + \" Fringe is size \" + str(len(fringe.heap)))\n",
    "            print(\"Evaluation is \" + str(evaluator.value(nextNode._worldState, nextNode._actions)) + \" with actions \" + str(len(nextNode._actions)))\n",
    "        if (problem.isGoal(nextNode.worldState())):\n",
    "            return (nextNode._actions, (time.process_time() - startTime, numVisited, numSkipped))\n",
    "        if (nextNode._worldState in visited):\n",
    "            numSkipped += 1\n",
    "        else:\n",
    "            visited[nextNode.worldState()] = True\n",
    "            successors = nextNode.worldState().successors()\n",
    "            for successor in successors:\n",
    "                state, action = successor\n",
    "                actions = list(nextNode.actions())\n",
    "                actions.append(action)\n",
    "                newSS = SearchState(state, actions)\n",
    "                newValue = evaluator.value(state, actions)\n",
    "                fringe.update(newSS, newValue)\n",
    "    raise \"Impossible search execution path.\"\n",
    "\n",
    "## Instances of SearchState go on the search fringe -- contains both a state and \n",
    "## list of actions so far\n",
    "\n",
    "class SearchState:\n",
    "    def __str__(self):\n",
    "        return \"{S \" + str(self._worldState) + \"/\" + str(self._actions) + \"}\"\n",
    "    \n",
    "    def __init__(self, worldState, actions):\n",
    "        self._worldState = worldState\n",
    "        self._actions = actions\n",
    "    \n",
    "    def worldState(self):\n",
    "        return self._worldState\n",
    "    \n",
    "    def actions(self):\n",
    "        return self._actions"
   ]
  },
  {
   "cell_type": "markdown",
   "metadata": {},
   "source": [
    "### Interface Between Search and Client ###"
   ]
  },
  {
   "cell_type": "code",
   "execution_count": null,
   "metadata": {},
   "outputs": [],
   "source": [
    "class WorldState:\n",
    "    #  Method successors() returns a tuple:  (worldState, action)\n",
    "    def successors():\n",
    "        raise \"Not implemented\"\n",
    "\n",
    "class Problem:\n",
    "    def __init__(self, initialSpec, goalSpec):\n",
    "        self.initialSpec = initialSpec\n",
    "        self.goalSpec = goalSpec\n",
    "    \n",
    "    # Method initial returns a world state\n",
    "    def initial(self):\n",
    "        raise \"Not implemented\"\n",
    "        \n",
    "    # Method isGoal returns a boolean\n",
    "    def isGoal(self, state):\n",
    "        raise \"Not implemented\"\n",
    "\n",
    "# Evaluator provides the evaluator f(s) = g(s) + h*(s)\n",
    "\n",
    "class Evaluator:\n",
    "    def __init__(self, goalEstimator, actionsCoster):\n",
    "        self._estimator = goalEstimator\n",
    "        self._coster = actionsCoster\n",
    "    def estimateToGoal(self, state):\n",
    "        return self._estimator(state)\n",
    "    def costSoFar(self, actions):\n",
    "        return self._coster(actions)\n",
    "    def value(self, state, actions):\n",
    "        return self.estimateToGoal(state) + self.costSoFar(actions)\n",
    "    "
   ]
  },
  {
   "cell_type": "markdown",
   "metadata": {},
   "source": [
    "### Domain-Specific Code ###"
   ]
  },
  {
   "cell_type": "code",
   "execution_count": null,
   "metadata": {},
   "outputs": [],
   "source": [
    "import copy\n",
    "\n",
    "class PancakeWorldState(WorldState):\n",
    "       \n",
    "    def __str__(self):\n",
    "        return \"{\" + str(self._array) + \"}\"\n",
    "    \n",
    "    def __eq__(self, other):\n",
    "        if isinstance(other, PancakeWorldState):\n",
    "            return self._array == other._array \n",
    "        else:\n",
    "            return False\n",
    "\n",
    "    def __hash__(self):\n",
    "        return hash(str(self._array) + str(len(self._array))) \n",
    "                    \n",
    "    def successors(self):\n",
    "        self._length = len(self._array)\n",
    "        candidates = []\n",
    "        for i in range(1, self._length):\n",
    "                candidates.append(self.flip(i))\n",
    "        candidates = [val for sublist in candidates for val in sublist]\n",
    "        return candidates\n",
    "    \n",
    "    def flip(self, number):\n",
    "        s = copy.deepcopy(self)\n",
    "        start = 0\n",
    "        index = number\n",
    "        while start < index: \n",
    "            temp = s._array[start]\n",
    "            s._array[start] = s._array[index]\n",
    "            s._array[index] = temp\n",
    "            start += 1\n",
    "            index -= 1\n",
    "        return [(s, \"flip_\" + str(number))]\n",
    "    \n",
    "    "
   ]
  },
  {
   "cell_type": "code",
   "execution_count": null,
   "metadata": {},
   "outputs": [],
   "source": [
    "class PancakeWorldProblem(Problem):\n",
    "    def __init__(self, initialSpec):\n",
    "        for i in initialSpec[\"array\"]:\n",
    "            if not isinstance(i, int):\n",
    "                raise TypeError(\"Only can input digit!\")\n",
    "        super(PancakeWorldProblem, self).__init__(initialSpec, [])\n",
    "  \n",
    "    def initial(self):\n",
    "        state = PancakeWorldState()\n",
    "        initspec = self.initialSpec\n",
    "        state._array = initspec[\"array\"]\n",
    "        return state\n",
    "    \n",
    "    def isGoal(self, state):\n",
    "        result = True\n",
    "        for i in range(1, len(state._array)):\n",
    "            if state._array[i] < state._array[i-1]:\n",
    "                result = False           \n",
    "        return result"
   ]
  },
  {
   "cell_type": "code",
   "execution_count": null,
   "metadata": {},
   "outputs": [],
   "source": [
    "def uniformCostCoster(actions):\n",
    "    return len(actions)"
   ]
  },
  {
   "cell_type": "code",
   "execution_count": null,
   "metadata": {},
   "outputs": [],
   "source": [
    "def pancakeSort(array):\n",
    "    pancakeWorldProblem = PancakeWorldProblem({\"array\": array})\n",
    "    bfsEvaluator = Evaluator(lambda state: 0, uniformCostCoster)\n",
    "    actions, stats = aStarSearch(pancakeWorldProblem, bfsEvaluator, verbose = None)\n",
    "    print(\"Expanded \" + str(stats[1]))\n",
    "    return actions"
   ]
  },
  {
   "cell_type": "markdown",
   "metadata": {},
   "source": [
    "# Extra credit: Heuristic"
   ]
  },
  {
   "cell_type": "markdown",
   "metadata": {},
   "source": [
    "#### The following is the heuristic function:"
   ]
  },
  {
   "cell_type": "code",
   "execution_count": null,
   "metadata": {},
   "outputs": [],
   "source": [
    "def PancakeWorldEstimator(actualStack):\n",
    "    cost = 0\n",
    "    for i in range(0, (len(actualStack) - 1)):\n",
    "        if (abs(actualStack[i] - actualStack[i+1]) > 1):\n",
    "            cost += 1\n",
    "    return cost"
   ]
  },
  {
   "cell_type": "markdown",
   "metadata": {},
   "source": [
    "#### The following is the new pancakeSort with heuristics:"
   ]
  },
  {
   "cell_type": "code",
   "execution_count": null,
   "metadata": {},
   "outputs": [],
   "source": [
    "def pancakeSort(array):\n",
    "    pancakeWorldProblem = PancakeWorldProblem({\"array\": array})\n",
    "    pancakeWorldEvaluator = Evaluator(lambda state: PancakeWorldEstimator(state._array), uniformCostCoster)\n",
    "    actions, stats = aStarSearch(pancakeWorldProblem, pancakeWorldEvaluator, verbose = None)\n",
    "    print(\"Expanded \" + str(stats[1]))\n",
    "    return actions"
   ]
  }
 ],
 "metadata": {
  "kernelspec": {
   "display_name": "Python 3",
   "language": "python",
   "name": "python3"
  },
  "language_info": {
   "codemirror_mode": {
    "name": "ipython",
    "version": 3
   },
   "file_extension": ".py",
   "mimetype": "text/x-python",
   "name": "python",
   "nbconvert_exporter": "python",
   "pygments_lexer": "ipython3",
   "version": "3.7.1"
  }
 },
 "nbformat": 4,
 "nbformat_minor": 2
}

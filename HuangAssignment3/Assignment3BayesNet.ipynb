{
 "cells": [
  {
   "cell_type": "markdown",
   "metadata": {},
   "source": [
    "Problem (Re)Statement:\n",
    "\n",
    "* Shortness of breath (dyspnea) may be due to tuberculosis, lung cancer or bronchitis, or none of them, or more than one of them. \n",
    "* A recent visit to Asia increases the chances of tuberculosis.\n",
    "* Smoking is known to be a risk factor for both lung cancer and bronchitis. \n",
    "* A positive chest X-ray suggests either lung cancer or tuberculosis, but cannot distinguish between them"
   ]
  },
  {
   "cell_type": "markdown",
   "metadata": {},
   "source": [
    "Here is a data set to pull your model parameters from"
   ]
  },
  {
   "cell_type": "code",
   "execution_count": 2,
   "metadata": {},
   "outputs": [],
   "source": [
    "from pandas import *\n",
    "df = pandas.read_csv(\"asia.csv\")"
   ]
  },
  {
   "cell_type": "code",
   "execution_count": 3,
   "metadata": {},
   "outputs": [
    {
     "data": {
      "text/html": [
       "<div>\n",
       "<style scoped>\n",
       "    .dataframe tbody tr th:only-of-type {\n",
       "        vertical-align: middle;\n",
       "    }\n",
       "\n",
       "    .dataframe tbody tr th {\n",
       "        vertical-align: top;\n",
       "    }\n",
       "\n",
       "    .dataframe thead th {\n",
       "        text-align: right;\n",
       "    }\n",
       "</style>\n",
       "<table border=\"1\" class=\"dataframe\">\n",
       "  <thead>\n",
       "    <tr style=\"text-align: right;\">\n",
       "      <th></th>\n",
       "      <th>Smoker</th>\n",
       "      <th>LungCancer</th>\n",
       "      <th>VisitToAsia</th>\n",
       "      <th>Tuberculosis</th>\n",
       "      <th>TuberculosisOrCancer</th>\n",
       "      <th>XRay</th>\n",
       "      <th>Bronchitis</th>\n",
       "      <th>Dyspnea</th>\n",
       "    </tr>\n",
       "  </thead>\n",
       "  <tbody>\n",
       "    <tr>\n",
       "      <th>0</th>\n",
       "      <td>1</td>\n",
       "      <td>1</td>\n",
       "      <td>0</td>\n",
       "      <td>0</td>\n",
       "      <td>1</td>\n",
       "      <td>1</td>\n",
       "      <td>1</td>\n",
       "      <td>1</td>\n",
       "    </tr>\n",
       "    <tr>\n",
       "      <th>1</th>\n",
       "      <td>0</td>\n",
       "      <td>0</td>\n",
       "      <td>0</td>\n",
       "      <td>0</td>\n",
       "      <td>0</td>\n",
       "      <td>1</td>\n",
       "      <td>1</td>\n",
       "      <td>1</td>\n",
       "    </tr>\n",
       "    <tr>\n",
       "      <th>2</th>\n",
       "      <td>0</td>\n",
       "      <td>0</td>\n",
       "      <td>0</td>\n",
       "      <td>0</td>\n",
       "      <td>0</td>\n",
       "      <td>0</td>\n",
       "      <td>1</td>\n",
       "      <td>1</td>\n",
       "    </tr>\n",
       "    <tr>\n",
       "      <th>3</th>\n",
       "      <td>0</td>\n",
       "      <td>0</td>\n",
       "      <td>0</td>\n",
       "      <td>0</td>\n",
       "      <td>0</td>\n",
       "      <td>0</td>\n",
       "      <td>1</td>\n",
       "      <td>1</td>\n",
       "    </tr>\n",
       "    <tr>\n",
       "      <th>4</th>\n",
       "      <td>1</td>\n",
       "      <td>0</td>\n",
       "      <td>0</td>\n",
       "      <td>0</td>\n",
       "      <td>0</td>\n",
       "      <td>0</td>\n",
       "      <td>1</td>\n",
       "      <td>0</td>\n",
       "    </tr>\n",
       "  </tbody>\n",
       "</table>\n",
       "</div>"
      ],
      "text/plain": [
       "   Smoker  LungCancer  VisitToAsia  Tuberculosis  TuberculosisOrCancer  XRay  \\\n",
       "0       1           1            0             0                     1     1   \n",
       "1       0           0            0             0                     0     1   \n",
       "2       0           0            0             0                     0     0   \n",
       "3       0           0            0             0                     0     0   \n",
       "4       1           0            0             0                     0     0   \n",
       "\n",
       "   Bronchitis  Dyspnea  \n",
       "0           1        1  \n",
       "1           1        1  \n",
       "2           1        1  \n",
       "3           1        1  \n",
       "4           1        0  "
      ]
     },
     "execution_count": 3,
     "metadata": {},
     "output_type": "execute_result"
    }
   ],
   "source": [
    "df.head()"
   ]
  },
  {
   "cell_type": "markdown",
   "metadata": {},
   "source": [
    "<image src=\"asia.gif\" size=200/>"
   ]
  },
  {
   "cell_type": "markdown",
   "metadata": {},
   "source": [
    "<image src=\"asia.gif\"/>\n"
   ]
  },
  {
   "cell_type": "markdown",
   "metadata": {},
   "source": [
    "Begin by writing out your model.  For example here are names of some nodes, and the arcs that connect them.\n",
    "<pre>\n",
    "Asia                 -> Tuberculosis\n",
    "\n",
    "Smoker               -> LungCancer\n",
    "\n",
    "Smoker               -> Bronchitis\n",
    "\n",
    "Tuberculosis, Cancer -> TuberculosisOrCancer\n",
    "\n",
    "TuberculosisOrCancer -> XRay\n",
    "\n",
    "TuberculosisOrCancer, Bronchitis  -> Dyspnea\n",
    "</pre>"
   ]
  },
  {
   "cell_type": "markdown",
   "metadata": {},
   "source": [
    "-- Informally Write Your Model In This Cell -- \n",
    "It will determine the parameters you will need to get from the data set"
   ]
  },
  {
   "cell_type": "markdown",
   "metadata": {},
   "source": [
    "Now define your distribtions"
   ]
  },
  {
   "cell_type": "code",
   "execution_count": 4,
   "metadata": {
    "scrolled": true
   },
   "outputs": [],
   "source": [
    "from pomegranate import *\n",
    "# helper function to calculate the conditional probability \n",
    "def conditionalProb(df, arg1, a1, conditionArg1, c1, conditionArg2=None, c2=None, conditionArg3=None, c3=None):\n",
    "    if (conditionArg2 is None) and (conditionArg3 is None): \n",
    "        # P(A|B)=P(A,B)/P(B) \n",
    "        return df[(conditionArg1 == c1) & (arg1 == a1)].shape[0]/df[(conditionArg1 == c1)].shape[0]    \n",
    "    if conditionArg3 is None:\n",
    "        # P(A|B,C)=P(A,B,C)/P(B^C)\n",
    "        return df[(conditionArg1 == c1) & (conditionArg2 == c2) & (arg1 == a1)].shape[0]/ \\\n",
    "                              df[(conditionArg1 == c1) & (conditionArg2 == c2)].shape[0]\n",
    "    else:\n",
    "        # P(A|B,C,D)=P(A,B,C,D)/P(B^C^D)\n",
    "        return df[(conditionArg1 == c1) & (conditionArg2 == c2) & (conditionArg3 == c3) & (arg1 == a1)].shape[0]/ \\\n",
    "                              df[(conditionArg1 == c1) & (conditionArg2 == c2) & (conditionArg3 == c3)].shape[0]\n",
    "\n",
    "# Asia\n",
    "asiadist =  DiscreteDistribution({\"NotVisitAsia\": (1-.0094), \"VisitAsia\": .0094})\n",
    "\n",
    "# Smoker\n",
    "pSmoker = df.Smoker.value_counts()[1]/df.shape[0]\n",
    "smokerdist =  DiscreteDistribution({\"NotSmoker\": (1-pSmoker), \"Smoker\": pSmoker})\n",
    "\n",
    "# Tuberculosis|Asia\n",
    "pTuberculosisGivenAsia    = conditionalProb(df, df.Tuberculosis, 1, df.VisitToAsia, 1)\n",
    "pTuberculosisGivenNotAsia = conditionalProb(df, df.Tuberculosis, 1, df.VisitToAsia, 0)\n",
    "tuberculosisdist = ConditionalProbabilityTable([[\"VisitAsia\",\"Tuberculosis\", pTuberculosisGivenAsia],\n",
    "                                                [\"VisitAsia\",\"NotTuberculosis\", 1-pTuberculosisGivenAsia],\n",
    "                                                [\"NotVisitAsia\",\"Tuberculosis\", pTuberculosisGivenNotAsia], \n",
    "                                                [\"NotVisitAsia\",\"NotTuberculosis\", 1-pTuberculosisGivenNotAsia]],\n",
    "                                                [asiadist])\n",
    "\n",
    "\n",
    "# LungCancer|Smoker\n",
    "pCancerGivenSmoker    = conditionalProb(df, df.LungCancer, 1, df.Smoker, 1)\n",
    "pCancerGivenNotSmoker = conditionalProb(df, df.LungCancer, 1, df.Smoker, 0)\n",
    "cancerdist = ConditionalProbabilityTable([[\"Smoker\",\"Cancer\", pCancerGivenSmoker],    \n",
    "                                          [\"Smoker\", \"NotCancer\", 1-pCancerGivenSmoker],\n",
    "                                          [\"NotSmoker\",\"Cancer\", pCancerGivenNotSmoker], \n",
    "                                          [\"NotSmoker\",\"NotCancer\", 1-pCancerGivenNotSmoker]],\n",
    "                                          [smokerdist])\n",
    "\n",
    "# Bronchitis|Smoker\n",
    "pBronGivenSmoker    = conditionalProb(df, df.Bronchitis, 1, df.Smoker, 1)\n",
    "pBronGivenNotSmoker = conditionalProb(df, df.Bronchitis, 1, df.Smoker, 0)\n",
    "bronchitisdist = ConditionalProbabilityTable([[\"Smoker\",\"Bronchitis\", pBronGivenSmoker],    \n",
    "                                              [\"Smoker\",\"NotBronchitis\", 1-pBronGivenSmoker],\n",
    "                                              [\"NotSmoker\",\"Bronchitis\", pBronGivenNotSmoker], \n",
    "                                              [\"NotSmoker\",\"NotBronchitis\", 1-pBronGivenNotSmoker]],\n",
    "                                              [smokerdist])\n",
    "\n",
    "# TuberculosisOrCancer|Tuberculosis, Cancer\n",
    "pTOrCGivenTC    = conditionalProb(df, df.TuberculosisOrCancer, 1, df.Tuberculosis, 1, df.LungCancer, 1)\n",
    "pTOrCGivenTNotC = conditionalProb(df, df.TuberculosisOrCancer, 1, df.Tuberculosis, 1, df.LungCancer, 0)\n",
    "pTOrCGivenCNotT = conditionalProb(df, df.TuberculosisOrCancer, 1, df.Tuberculosis, 0, df.LungCancer, 1)\n",
    "pTOrCGivenNotTC = conditionalProb(df, df.TuberculosisOrCancer, 1, df.Tuberculosis, 0, df.LungCancer, 0)\n",
    "tOrCdist = ConditionalProbabilityTable([[\"Tuberculosis\",\"Cancer\",\"TuberculosisOrCancer\", pTOrCGivenTC],      \n",
    "                                        [\"Tuberculosis\",\"Cancer\",\"NotTuberculosisOrCancer\", 1-pTOrCGivenTC],\n",
    "                                        [\"Tuberculosis\",\"NotCancer\",\"TuberculosisOrCancer\", pTOrCGivenTNotC],   \n",
    "                                        [\"Tuberculosis\",\"NotCancer\",\"NotTuberculosisOrCancer\", 1-pTOrCGivenTNotC],\n",
    "                                        [\"NotTuberculosis\",\"Cancer\",\"TuberculosisOrCancer\", pTOrCGivenCNotT],   \n",
    "                                        [\"NotTuberculosis\",\"Cancer\",\"NotTuberculosisOrCancer\", 1-pTOrCGivenCNotT],\n",
    "                                        [\"NotTuberculosis\",\"NotCancer\",\"TuberculosisOrCancer\", pTOrCGivenNotTC],\n",
    "                                        [\"NotTuberculosis\",\"NotCancer\",\"NotTuberculosisOrCancer\", 1-pTOrCGivenNotTC]],\n",
    "                                        [tuberculosisdist, cancerdist])\n",
    "\n",
    "# XRay|TuberculosisOrCancer\n",
    "pXRayGivenTC    = conditionalProb(df, df.XRay, 1, df.TuberculosisOrCancer, 1)\n",
    "pXRayGivenNotTC = conditionalProb(df, df.XRay, 1, df.TuberculosisOrCancer, 0)\n",
    "xraydist = ConditionalProbabilityTable([[\"TuberculosisOrCancer\",\"XRay\", pXRayGivenTC],      \n",
    "                                        [\"TuberculosisOrCancer\",\"NotXRay\", 1-pXRayGivenTC],\n",
    "                                        [\"NotTuberculosisOrCancer\",\"XRay\", pXRayGivenNotTC],   \n",
    "                                        [\"NotTuberculosisOrCancer\",\"NotXRay\", 1-pXRayGivenNotTC]],\n",
    "                                        [tOrCdist])\n",
    "\n",
    "\n",
    "# Dyspnea|TuberculosisOrCancer,Bronchitis\n",
    "pDyspneaGivenTCB    = conditionalProb(df, df.Dyspnea, 1, df.TuberculosisOrCancer, 1, df.Bronchitis, 1)\n",
    "pDyspneaGivenTCNotB = conditionalProb(df, df.Dyspnea, 1, df.TuberculosisOrCancer, 1, df.Bronchitis, 0)\n",
    "pDyspneaGivenBNotTC = conditionalProb(df, df.Dyspnea, 1, df.TuberculosisOrCancer, 0, df.Bronchitis, 1)\n",
    "pDyspneaGivenNotTCB = conditionalProb(df, df.Dyspnea, 1, df.TuberculosisOrCancer, 0, df.Bronchitis, 0)\n",
    "dyspneadist = ConditionalProbabilityTable([[\"TuberculosisOrCancer\",\"Bronchitis\",\"Dyspnea\", pDyspneaGivenTCB],      \n",
    "                                        [\"TuberculosisOrCancer\",\"Bronchitis\",\"NotDyspnea\", 1-pDyspneaGivenTCB],\n",
    "                                        [\"TuberculosisOrCancer\",\"NotBronchitis\",\"Dyspnea\", pDyspneaGivenTCNotB],   \n",
    "                                        [\"TuberculosisOrCancer\",\"NotBronchitis\",\"NotDyspnea\", 1-pDyspneaGivenTCNotB],\n",
    "                                        [\"NotTuberculosisOrCancer\",\"Bronchitis\",\"Dyspnea\", pDyspneaGivenBNotTC],   \n",
    "                                        [\"NotTuberculosisOrCancer\",\"Bronchitis\",\"NotDyspnea\", 1-pDyspneaGivenBNotTC],\n",
    "                                        [\"NotTuberculosisOrCancer\",\"NotBronchitis\",\"Dyspnea\", pDyspneaGivenNotTCB],\n",
    "                                        [\"NotTuberculosisOrCancer\",\"NotBronchitis\",\"NotDyspnea\", 1-pDyspneaGivenNotTCB]],\n",
    "                                        [tOrCdist, bronchitisdist])"
   ]
  },
  {
   "cell_type": "markdown",
   "metadata": {},
   "source": [
    "Next define the nodes in your network"
   ]
  },
  {
   "cell_type": "code",
   "execution_count": 5,
   "metadata": {},
   "outputs": [],
   "source": [
    "asia                 = Node(asiadist,         name=\"asia\")\n",
    "smoker               = Node(smokerdist,       name=\"smoker\")\n",
    "tuberculosis         = Node(tuberculosisdist, name=\"tuberculosis\")\n",
    "lungCancer           = Node(cancerdist,       name=\"lungCancer\")\n",
    "bronchitis           = Node(bronchitisdist,   name=\"bronchitis\")\n",
    "xray                 = Node(xraydist,         name=\"xray\")\n",
    "dyspnea              = Node(dyspneadist,      name=\"dyspnea\")\n",
    "tuberculosisOrCancer = Node(tOrCdist,         name=\"tuberculosisOrCancer\")"
   ]
  },
  {
   "cell_type": "markdown",
   "metadata": {},
   "source": [
    "Define your model, adding states and edges"
   ]
  },
  {
   "cell_type": "code",
   "execution_count": 6,
   "metadata": {},
   "outputs": [],
   "source": [
    "model = BayesianNetwork(\"Breathing Diagnosis\")\n",
    "model.add_states(asia, smoker, lungCancer, tuberculosis, bronchitis, xray, dyspnea, tuberculosisOrCancer)\n",
    "model.add_edge(asia, tuberculosis)\n",
    "model.add_edge(smoker, lungCancer)\n",
    "model.add_edge(smoker, bronchitis)\n",
    "model.add_edge(tuberculosis, tuberculosisOrCancer)\n",
    "model.add_edge(lungCancer, tuberculosisOrCancer)\n",
    "model.add_edge(tuberculosisOrCancer, xray)\n",
    "model.add_edge(tuberculosisOrCancer, dyspnea)\n",
    "model.add_edge(bronchitis, dyspnea)\n",
    "model.bake()"
   ]
  },
  {
   "cell_type": "markdown",
   "metadata": {},
   "source": [
    "------------------------------------------------"
   ]
  },
  {
   "cell_type": "markdown",
   "metadata": {},
   "source": [
    "#### Questions"
   ]
  },
  {
   "cell_type": "markdown",
   "metadata": {},
   "source": [
    "1.  Before checking, write down your guess for the probability that an individual in the population at large would have a positive X-Ray (i.e. a result that suggests either lung cancer or tuberculosis)"
   ]
  },
  {
   "cell_type": "markdown",
   "metadata": {},
   "source": [
    "I think that the probability of having a postive X-Ray should be less than 1%. There shouldn't be many people who have lung cancer or tuberculosis."
   ]
  },
  {
   "cell_type": "markdown",
   "metadata": {},
   "source": [
    "2.  Now read that probability from the model you built.   "
   ]
  },
  {
   "cell_type": "code",
   "execution_count": 7,
   "metadata": {},
   "outputs": [
    {
     "data": {
      "text/plain": [
       "0.11053500066501697"
      ]
     },
     "execution_count": 7,
     "metadata": {},
     "output_type": "execute_result"
    }
   ],
   "source": [
    "model.predict_proba({})[5].parameters[0].get('XRay')"
   ]
  },
  {
   "cell_type": "markdown",
   "metadata": {},
   "source": [
    "3.  Is your empirical result significantly different from your guess?  If so, explain why.  If not, explain how you came to your original guess."
   ]
  },
  {
   "cell_type": "markdown",
   "metadata": {},
   "source": [
    "Yes. These two values are very different. According to this data, there are around 11% of population that has a positive X-Ray. So, I think the reason could be this data is not representative for the current population. This data is most likely biased. "
   ]
  },
  {
   "cell_type": "markdown",
   "metadata": {},
   "source": [
    "4.  How much does a trip to Asia affect the likelihood of an individual having Dyspnea?"
   ]
  },
  {
   "cell_type": "code",
   "execution_count": 8,
   "metadata": {},
   "outputs": [
    {
     "data": {
      "text/plain": [
       "0.4538813486201607"
      ]
     },
     "execution_count": 8,
     "metadata": {},
     "output_type": "execute_result"
    }
   ],
   "source": [
    "model.predict_proba({\"asia\":\"VisitAsia\"})[6].parameters[0].get('Dyspnea')"
   ]
  },
  {
   "cell_type": "markdown",
   "metadata": {},
   "source": [
    "The likelihood of an individual having Dyspnea is 0.4538813486201607 in a given situation (a trip to Asia)"
   ]
  },
  {
   "cell_type": "markdown",
   "metadata": {},
   "source": [
    "5.  Suppose you are a nonsmoker individual presenting with Dyspnea and you have never been to Asia.  In your panic you have a chest XRay done, which comes out negative.   What do you now know about the state of your health?"
   ]
  },
  {
   "cell_type": "code",
   "execution_count": 9,
   "metadata": {},
   "outputs": [
    {
     "data": {
      "text/plain": [
       "array(['NotVisitAsia', 'NotSmoker',\n",
       "       {\n",
       "    \"class\" :\"Distribution\",\n",
       "    \"dtype\" :\"str\",\n",
       "    \"name\" :\"DiscreteDistribution\",\n",
       "    \"parameters\" :[\n",
       "        {\n",
       "            \"NotCancer\" :0.9993319686248006,\n",
       "            \"Cancer\" :0.0006680313751993797\n",
       "        }\n",
       "    ],\n",
       "    \"frozen\" :false\n",
       "},\n",
       "       {\n",
       "    \"class\" :\"Distribution\",\n",
       "    \"dtype\" :\"str\",\n",
       "    \"name\" :\"DiscreteDistribution\",\n",
       "    \"parameters\" :[\n",
       "        {\n",
       "            \"Tuberculosis\" :0.0006638004335899343,\n",
       "            \"NotTuberculosis\" :0.9993361995664101\n",
       "        }\n",
       "    ],\n",
       "    \"frozen\" :false\n",
       "},\n",
       "       {\n",
       "    \"class\" :\"Distribution\",\n",
       "    \"dtype\" :\"str\",\n",
       "    \"name\" :\"DiscreteDistribution\",\n",
       "    \"parameters\" :[\n",
       "        {\n",
       "            \"NotBronchitis\" :0.21997111134443062,\n",
       "            \"Bronchitis\" :0.7800288886555693\n",
       "        }\n",
       "    ],\n",
       "    \"frozen\" :false\n",
       "},\n",
       "       'NotXRay', 'Dyspnea',\n",
       "       {\n",
       "    \"class\" :\"Distribution\",\n",
       "    \"dtype\" :\"str\",\n",
       "    \"name\" :\"DiscreteDistribution\",\n",
       "    \"parameters\" :[\n",
       "        {\n",
       "            \"TuberculosisOrCancer\" :0.001325762474672347,\n",
       "            \"NotTuberculosisOrCancer\" :0.9986742375253277\n",
       "        }\n",
       "    ],\n",
       "    \"frozen\" :false\n",
       "}], dtype=object)"
      ]
     },
     "execution_count": 9,
     "metadata": {},
     "output_type": "execute_result"
    }
   ],
   "source": [
    "model.predict_proba({\"smoker\":\"NotSmoker\",\"dyspnea\":\"Dyspnea\",\"asia\":\"NotVisitAsia\", \"xray\":\"NotXRay\"})"
   ]
  },
  {
   "cell_type": "markdown",
   "metadata": {},
   "source": [
    "This individual has very low probabilties of having Cancer(0.0006680313751993797), Tuberculosis(0.0006638004335899343) but has a high probability of having Bronchitis(0.7800288886555693)   "
   ]
  }
 ],
 "metadata": {
  "kernelspec": {
   "display_name": "Python 3",
   "language": "python",
   "name": "python3"
  },
  "language_info": {
   "codemirror_mode": {
    "name": "ipython",
    "version": 3
   },
   "file_extension": ".py",
   "mimetype": "text/x-python",
   "name": "python",
   "nbconvert_exporter": "python",
   "pygments_lexer": "ipython3",
   "version": "3.7.1"
  }
 },
 "nbformat": 4,
 "nbformat_minor": 2
}

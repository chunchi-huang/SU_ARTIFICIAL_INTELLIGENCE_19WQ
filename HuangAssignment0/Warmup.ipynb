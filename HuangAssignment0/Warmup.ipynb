{
 "cells": [
  {
   "cell_type": "markdown",
   "metadata": {},
   "source": [
    "### Welcome to Your First Notebook! ####\n",
    "\n",
    "This short exercise will have a few Python programming questions that will cover\n",
    "  * Working with strings and lists\n",
    "  * Working with functions and numeric operations\n",
    "  * Writing and using a class and its instances\n",
    "  * Reading a file into a Data Frame and doing a statistical calculation"
   ]
  },
  {
   "cell_type": "markdown",
   "metadata": {},
   "source": [
    "\n",
    "Each of these exercises will have a Markdown cell describing the problem.  You will insert a Code cell under the question and put your code there.  You will run your code to verify its correctness, but when you hand in your solution in this notebook, please clear all output.  (Cell -> All Output -> Clear in the menu above.)"
   ]
  },
  {
   "cell_type": "markdown",
   "metadata": {},
   "source": [
    "------------------------------------"
   ]
  },
  {
   "cell_type": "markdown",
   "metadata": {},
   "source": [
    "\\# 1  **String splitting.**  Write a function **printWords(aString)** that takes a string as input and writes each word to the console, one word per line.  A word is a sequence of one or more non-whitespace characters.  Words are separated by one or more whitespace characters."
   ]
  },
  {
   "cell_type": "code",
   "execution_count": null,
   "metadata": {},
   "outputs": [],
   "source": [
    "def printWords(aString):\n",
    "    \"\"\"\n",
    "        aString: a string input\n",
    "    \"\"\"\n",
    "    for word in aString.split():\n",
    "        print (word)"
   ]
  },
  {
   "cell_type": "markdown",
   "metadata": {},
   "source": [
    "\\# 2 **Primes.**  Write a function **primes(low, high)** that returns a list of the prime numbers between low and high, inclusive.  If high < low, the function should return the empty list."
   ]
  },
  {
   "cell_type": "code",
   "execution_count": null,
   "metadata": {},
   "outputs": [],
   "source": [
    "import math\n",
    "\n",
    "def primes(low, high):\n",
    "    \"\"\"\n",
    "        low: number with smaller value\n",
    "        high: number with higher value\n",
    "    \"\"\"\n",
    "    print (\"Prime numbers between\", low, \"and\", high, \"are:\")\n",
    "    \n",
    "    primes = []\n",
    "        \n",
    "    if high < low:\n",
    "        return primes\n",
    "    else:\n",
    "        if not isinstance(low, int) or not isinstance(high, int):\n",
    "            raise TypeError(\"The input type should be integer!\")\n",
    "            \n",
    "        for num in range(low, high + 1):\n",
    "            isPrime = True\n",
    "            if num > 1:\n",
    "                for i in range(2, num):\n",
    "                    if (num % i) == 0:\n",
    "                        isPrime = False\n",
    "                if isPrime:\n",
    "                    primes.append(num)\n",
    "    print(primes)"
   ]
  },
  {
   "cell_type": "markdown",
   "metadata": {},
   "source": [
    "\\# 3 **Temperature Conversion.**  Write a class Temperature whose constructor accepts two parameters, a real number and a string that is either \"F\" (Farenheit) or \"C\" (Celsius).   It has the following methods   \n",
    "  1.  **degrees** and **units** which are getters for the two instance variables\n",
    "  1.  **toFarenheit** and **toCelsius** that returns the instance's degrees in the specified units\n",
    "  1.  Overload the operator **__add__(aTemperature)** which affects how expressions like **t1 + t2** behave when **t1** and **t2** are both **Temperatures**.  This operator should return a new instance of **Temperature** adding the receiver and the argument.  The units of the returned **Temperature** should be the same as that of the receiver. \n",
    "  1. Overload the operator **__str__** which is the equivalent of Java **toString** and affects the way instances display themselves. Instances of Temperature should print like this:  **{32 degrees F}**\n",
    "  \n",
    "Your code should detect the following errors and raise an exception in both cases\n",
    "  1. The **units** argument to the constructor is not \"C\" or \"F\" (case sensitive)\n",
    "  2. An expession is of the form **(x + y)** where **x** is an instance of **Temperature** but *y* is not.  That is, it is illegal to add a **Temperature** to a non-**Temperature**\n",
    "  "
   ]
  },
  {
   "cell_type": "code",
   "execution_count": null,
   "metadata": {},
   "outputs": [],
   "source": [
    "class Temperature:\n",
    "\n",
    "    def __init__(self, num, units):\n",
    "        \"\"\"\n",
    "            num: a real number for degrees\n",
    "            units: either \"F\" Farenheit or \"C\" Celsius\n",
    "        \"\"\"\n",
    "        if units == \"C\" or units == \"F\":\n",
    "            self.unit = units\n",
    "            self.degree = num\n",
    "        else:\n",
    "            raise ValueError(\"The units argument should be 'C' or 'F'\")\n",
    "\n",
    "    def degrees(self):\n",
    "        return self.degree\n",
    "    \n",
    "    def units(self):\n",
    "        return self.unit\n",
    "        \n",
    "    def toFarenheit(self):\n",
    "        if self.unit == \"C\":\n",
    "            return (32 + self.degree*1.8)\n",
    "        return self.degree\n",
    "        \n",
    "    def toCelsius(self):\n",
    "        if self.unit == \"F\":\n",
    "            return (self.degree - 32)*(5/9)\n",
    "        return self.degree\n",
    "    \n",
    "    def __str__(self):\n",
    "        return \"{\" + str(self.degree) + \" degrees \" + self.unit + \"}\"\n",
    "    \n",
    "    def __add__(self, aTemperature):\n",
    "        if type(aTemperature) is Temperature: \n",
    "            if self.unit == \"C\":\n",
    "                return Temperature(self.degree + aTemperature.toCelsius(), self.unit)\n",
    "            else: # \"F\"\n",
    "                return Temperature(self.degree + aTemperature.toFarenheit(), self.unit)\n",
    "        else:\n",
    "            raise TypeError(\"It is illegal to add a Temperature to a non-Temperature!\")"
   ]
  },
  {
   "cell_type": "markdown",
   "metadata": {},
   "source": [
    "Here is some example input and output:\n",
    "<pre>\n",
    "t1 = Temperature(32, \"F\")\n",
    "print(t1)\n",
    "print(t1.degrees())\n",
    "print(t1.units())\n",
    "print(t1.toFarenheit())\n",
    "print(t1.toCelsius())\n",
    "t2 = Temperature(100, \"C\")\n",
    "print(t2)\n",
    "print(t2.degrees())\n",
    "print(t2.units())\n",
    "print(t2.toFarenheit())\n",
    "print(t2.toCelsius())\n",
    "t3 = t2 + Temperature(212, \"F\")\n",
    "print(t3)\n",
    "</pre>\n",
    "<pre>\n",
    "{32 degrees F}\n",
    "32\n",
    "F\n",
    "32\n",
    "0.0\n",
    "{100 degrees C}\n",
    "100\n",
    "C\n",
    "212.0\n",
    "100\n",
    "{200.0 degrees C}\n",
    "</pre>\n"
   ]
  },
  {
   "cell_type": "markdown",
   "metadata": {},
   "source": [
    "--------------------------------------"
   ]
  },
  {
   "cell_type": "markdown",
   "metadata": {},
   "source": [
    "\\# 4 The file **predicted.txt** has two columns per row -- one is an observed value, the other is a predicted value.  Call these values $o_i$ and $p_i$ for the $i^{th}$ row.  The mean-square error (MSE) is defined as  $$ \\frac{1}{n} \\sum_{1}^n(o_i - p_i)^2 $$ where $n$ is the number of rows in the data set.  Write code that reads the contents of **predicted.txt** and prints the mean-square error.  You should\n",
    "1.  Read the file **predicted.txt** into a **pandas DataFrame**\n",
    "1.  Discover how to access the two columns **Observed** and **Predicted**\n",
    "1.  Discover how to get the number of observations (rows) in the data frame\n",
    "1.  Use that information to calculate MSE according to the formula"
   ]
  },
  {
   "cell_type": "code",
   "execution_count": null,
   "metadata": {},
   "outputs": [],
   "source": [
    "import pandas as pd\n",
    "import math\n",
    "\n",
    "df = pd.DataFrame(pd.read_csv('predicted.txt'))\n",
    "MSE = ((df.Observed-df.Predicted)**2).sum()/len(df)\n",
    "print(MSE)"
   ]
  }
 ],
 "metadata": {
  "kernelspec": {
   "display_name": "Python 3",
   "language": "python",
   "name": "python3"
  },
  "language_info": {
   "codemirror_mode": {
    "name": "ipython",
    "version": 3
   },
   "file_extension": ".py",
   "mimetype": "text/x-python",
   "name": "python",
   "nbconvert_exporter": "python",
   "pygments_lexer": "ipython3",
   "version": "3.7.1"
  }
 },
 "nbformat": 4,
 "nbformat_minor": 2
}
